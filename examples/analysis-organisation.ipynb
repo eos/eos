{
 "cells": [
  {
   "attachments": {},
   "cell_type": "markdown",
   "metadata": {},
   "source": [
    "# Analysis Organisation\n",
    "\n",
    "This notebook illustrates how to organise your analysis or analyses. This presentation is based on the physical example of the analysis of $b \\to u \\ell \\nu$ exclusive decays. The analysis properties are encoded in a companion file named `b-to-u-l-nu.yaml`, which fully describes a number of individual priors and likelihoods. These objects serve as the building blocks to construct individual posteriors, which are then available for the overall analysis."
   ]
  },
  {
   "attachments": {},
   "cell_type": "markdown",
   "metadata": {},
   "source": [
    "## Defining the Building Blocks\n",
    "\n",
    "The analysis file is loaded via [eos.AnalysisFile](../reference/python.rst#eos.AnalysisFile). In our case the file defines two posteriors `CKM-all` and `WET-all`, and a few priors and likelihoods, which are used to define the two posteriors. The file format is YAML."
   ]
  },
  {
   "cell_type": "code",
   "execution_count": null,
   "metadata": {},
   "outputs": [],
   "source": [
    "import eos\n",
    "import os\n",
    "from IPython.display import Markdown as md\n",
    "\n",
    "af = eos.AnalysisFile('./b-to-u-l-nu.yaml')"
   ]
  },
  {
   "cell_type": "markdown",
   "metadata": {},
   "source": [
    "### Defining parameters\n",
    "The parametrization in EOS strives to be as specific as possible. Hence, EOS treats the Wilson coefficients as lepton flavor specific.  To restore lepton flavor universality, we create a new set of lepton flavor universal parameters and alias the existing parameters for the lepton specific Wilson coefficients to the new set.\n",
    "\n",
    "Looking at the `b->u` parameters available in EOS, we see that all available Wilson coefficients are lepton flavor dependent:"
   ]
  },
  {
   "cell_type": "code",
   "execution_count": null,
   "metadata": {},
   "outputs": [],
   "source": [
    "display(eos.Parameters(prefix='ub', name='Re{cVL}'))"
   ]
  },
  {
   "cell_type": "markdown",
   "metadata": {},
   "source": [
    "Here we show how to define a new parameter which is an alias to all three lepton flavor dependent left-handed vector Wilson coefficients:\n",
    "\n",
    "```yaml\n",
    "parameters:\n",
    "  'ublnul::Re{cVL}' :\n",
    "      alias_of: [ 'ubenue::Re{cVL}', 'ubmunumu::Re{cVL}', 'ubtaunutau::Re{cVL}' ]\n",
    "      central:   1.0\n",
    "      min:      -2.0\n",
    "      max:       2.0\n",
    "      unit:     '1'\n",
    "      latex:    '$\\mathrm{Re}\\, \\mathcal{C}^{\\bar{u}b\\bar{\\nu}_\\ell\\ell}_{V_L}$'\n",
    "  ...\n",
    "```\n",
    "\n",
    "The `alias_of` key is a list of existing EOS parameters (by qualified name).\n",
    "In the `b-to-u-l-nu.yaml` analysis file we similarly do so for scalar and tensor Wilson coefficients."
   ]
  },
  {
   "attachments": {},
   "cell_type": "markdown",
   "metadata": {},
   "source": [
    "### Defining priors\n",
    "\n",
    "All priors are contained within a list associated with the top-level key `priors`. In the example, the `WET` prior is defined as follows:\n",
    "\n",
    "```yaml\n",
    "priors:\n",
    "  ...\n",
    "    - name: WET\n",
    "    descriptions:\n",
    "      - { 'parameter': 'ublnul::Re{cVL}', 'min':  0.9, 'max': 1.2, 'type': 'uniform' }\n",
    "      ...\n",
    "```\n",
    "\n",
    "The definition associates a list of all parameters varied as part of this prior with the key `descriptions`. Each element of the list is a dictionary representing a single parameter. It provides the parameter's full name as `parameter`, lists the `min`/`max` interval, and specifies the `type` of prior distribution.\n",
    "This format reflects the expectations of the `prior` keyword argument of [eos.Analysis](../reference/python.rst#eos.Analysis).\n",
    "\n",
    "In addition to the `descriptions` key one can also pass manual constraints via the `manual_constraints` key or `pyhf` constraints via the `pyhf` key."
   ]
  },
  {
   "attachments": {},
   "cell_type": "markdown",
   "metadata": {},
   "source": [
    "### Defining likelihoods\n",
    "\n",
    "All likelihoods are contained within a list associated with the top-level key `likelihoods`. In the EOS convention, theoretical and experimental likelihoods should be defined separately from each other and their names prefixed with `TH-` and `EXP-`, respectively. In the example file, the `TH-pi` likelihoods is defined as follows:\n",
    "```yaml\n",
    "likelihoods:\n",
    "  - name: TH-pi\n",
    "    constraints:\n",
    "      - 'B->pi::form-factors[f_+,f_0,f_T]@LMvD:2021A;form-factors=BCL2008-4'\n",
    "      - 'B->pi::f_++f_0+f_T@FNAL+MILC:2015C;form-factors=BCL2008-4'\n",
    "      - 'B->pi::f_++f_0@RBC+UKQCD:2015A;form-factors=BCL2008-4'\n",
    "  ...\n",
    "```\n",
    " The definition associates a list of constraints with the key `constraints`. Each element of the list is a string referring to one of the built-in [EOS constraints](https://eos.github.io/doc/reference/constraints). This format reflects the expectations of the `constraints` keyword argument of [eos.Analysis](../reference/python.rst#eos.Analysis)."
   ]
  },
  {
   "attachments": {},
   "cell_type": "markdown",
   "metadata": {},
   "source": [
    "### Defining posteriors"
   ]
  },
  {
   "attachments": {},
   "cell_type": "markdown",
   "metadata": {},
   "source": [
    "We define a posterior based on predefined likelihoods and priors within a list associated with the top-level key `posteriors` as\n",
    "```yaml\n",
    "posteriors:\n",
    "  ...\n",
    "  - name: WET-all\n",
    "    global_options:\n",
    "      model: WET\n",
    "    fixed_parameters:\n",
    "      CKM::abs(V_ub): 3.67e-3\n",
    "    prior:\n",
    "      - WET\n",
    "      - DC-Bu\n",
    "      - FF-pi\n",
    "    likelihood:\n",
    "      - TH-pi\n",
    "      - EXP-pi\n",
    "      - EXP-leptonic\n",
    "```\n",
    "The specification of global options ensures that we use the `CKM model` for CKM matrix elements and that we focus on electrons in our final state. Using the `fixed_parameters` key we fix $|V_{ub}|$ here.\n",
    "\n",
    "In the analysis file we add two posteriors, for the `CKM model` and the `WET model`. Below we sample from both posteriors."
   ]
  },
  {
   "cell_type": "markdown",
   "metadata": {},
   "source": [
    "### Defining observables\n",
    "\n",
    "By defining and using custom observables in this way, you can tailor your analysis to include specific quantities of interest and ensure that they are properly accounted for in your results. To define custom observables, one can add an entry to the `observables` part of the analysis file. Mandatory fields include the name of the observable, the `latex` expression, its `unit` and an `expression` for the observable. The `expression` is constructed as documented [here](../reference/defining-observables.rst).\n",
    "\n",
    "```yaml\n",
    "observables:\n",
    "  \"B->pilnu::R_pi\":\n",
    "    latex: \"$R_{\\\\pi}$\"\n",
    "    unit: '1'\n",
    "    options: {}\n",
    "    expression: \"<<B->pilnu::BR;l=tau>>[q2_min=>q2_tau_min] / <<B->pilnu::BR;l=e>>[q2_min=>q2_e_min]\"\n",
    "```"
   ]
  },
  {
   "cell_type": "markdown",
   "metadata": {},
   "source": [
    "### Defining predictions\n",
    "\n",
    "To finally produce posterior predictive distributions for some observables, we can add them via the `predictions` key:\n",
    "\n",
    "```yaml\n",
    "predictions:\n",
    "  - name: leptonic-BR-CKM\n",
    "    global_options:\n",
    "      model: CKM\n",
    "    observables:\n",
    "      - name: B_u->lnu::BR;l=e\n",
    "      - name: B_u->lnu::BR;l=mu\n",
    "      - name: B_u->lnu::BR;l=tau\n",
    "  ...\n",
    "```\n",
    "\n",
    "Here we add the total branching ratio of $\\bar{B} \\to \\ell^- \\bar{\\nu}$ for $l=e, \\mu, \\tau$ as prediction.\n",
    "\n",
    "Similarly, we can add a prediction for our custom observable, defined above:\n",
    "\n",
    "```yaml\n",
    "  - name : R_pi\n",
    "    global_options:\n",
    "      model: WET\n",
    "    observables:\n",
    "      - name: B->pilnu::R_pi\n",
    "        kinematics:\n",
    "          q2_e_min: 1.0e-7\n",
    "          q2_tau_min: 3.3\n",
    "          q2_max: 25.0\n",
    "```\n",
    "\n",
    "If interested, the differential branching ratio `B->pilnu::dBR/dq2` is also defined in the analysis file."
   ]
  },
  {
   "cell_type": "markdown",
   "metadata": {},
   "source": [
    "### Defining steps\n",
    "\n",
    "Finally the analysis file can contain a `steps` key, which is used to define the analysis in terms of tasks, which are described below.\n"
   ]
  },
  {
   "attachments": {},
   "cell_type": "markdown",
   "metadata": {},
   "source": [
    "### Displaying the analysis file\n",
    "\n",
    "The ``display`` command outputs the structure of the analysis file."
   ]
  },
  {
   "cell_type": "code",
   "execution_count": null,
   "metadata": {},
   "outputs": [],
   "source": [
    "display(af)"
   ]
  },
  {
   "attachments": {},
   "cell_type": "markdown",
   "metadata": {},
   "source": [
    "## Running Frequent Tasks\n",
    "\n",
    "Most analyses that use `EOS` follow a pattern:\n",
    "  1. Define the priors, likelihoods, and posteriors.\n",
    "  2. Sample from the posteriors.\n",
    "  3. Inspect the posterior distributions for the analysis' parameters and plot them.\n",
    "  4. Produce posterior-predictive distributions, e.g., for observables that have not yet been measured or that can not yet be used as part of a likelihood.\n",
    "\n",
    "To facilitate running such analyses, `EOS` provides a number of repeated tasks within the `eos.tasks` module.\n",
    "All tasks follow a simple pattern: they are functions that expect an `eos.AnalysisFile` (or its name) as their first argument, and at least one posterior as their second argument. Tasks can be run from within a Jupyter notebook or using the `eos-analysis` command-line program. Tasks store intermediate and final results within a hierarchy of directories. It is recommended to provide `EOS` with a base directory in which these data are stored. The command-line program inspects the `EOS_BASE_DIRECTORY` environment variable for this purpose."
   ]
  },
  {
   "cell_type": "code",
   "execution_count": null,
   "metadata": {},
   "outputs": [],
   "source": [
    "BASE_DIRECTORY='./'"
   ]
  },
  {
   "attachments": {},
   "cell_type": "markdown",
   "metadata": {},
   "source": [
    "### Sampling from a Posterior\n",
    "\n",
    "Markov Chain Monte Carlo (MCMC), as discussed in the previous examples, provides reasonable access to posterior samples for many low-dimensional parameter spaces. However, for high-dimensional parameter space or in the presence of multiple (local) modes of the posterior, other methods perform better.\n",
    "`EOS` provides the `sample_nested` tasks, which uses the `dynesty` software to sample the posterior and compute its evidence using dynamic nested sampling.\n",
    "\n",
    "Inputs to this sampling algorithm are\n",
    "  - `nlive`: the number of live points;\n",
    "  - `dlogz`: the maximal value for the remaining evidence;\n",
    "  - `maxiter`: the maximal number of iterations; and\n",
    "  - `bound`: the method to generate new live points.\n",
    "\n",
    "For detailed information, see the `EOS` API and the `dynesty` documentation.\n",
    "\n",
    "First, we sample from the `CKM model`. The task is then run as follows:"
   ]
  },
  {
   "cell_type": "code",
   "execution_count": null,
   "metadata": {},
   "outputs": [],
   "source": [
    "eos.tasks.sample_nested(af, 'CKM-all', base_directory=BASE_DIRECTORY, bound='multi', nlive=100, dlogz=9.0, maxiter=4000)"
   ]
  },
  {
   "attachments": {},
   "cell_type": "markdown",
   "metadata": {},
   "source": [
    "Note that the above command uses an unreasonably large value for `dlogz` (9.0) and small values for `maxiter` (4000), which is only done for the sake of this example.\n",
    "In practice, you should use a smaller value for `dlogz` at about 1% of the log-evidence. For `maxiter`, you should use a value that is large enough to ensure that the sampler has converged.\n",
    "Ideally, no value for `maxiter` should be required."
   ]
  },
  {
   "attachments": {},
   "cell_type": "markdown",
   "metadata": {},
   "source": [
    "We can access our results using the `eos.data` module. In the results summary we get an estimate for the log-evidence as the `logz` entry."
   ]
  },
  {
   "cell_type": "code",
   "execution_count": null,
   "metadata": {},
   "outputs": [],
   "source": [
    "path = os.path.join(BASE_DIRECTORY, 'CKM-all', 'nested')\n",
    "ns_results = eos.data.DynestyResults(path)\n",
    "\n",
    "# Obtain dynesty results object\n",
    "dyn_results = ns_results.results\n",
    "# this can be used, for example, for a quick summary\n",
    "dyn_results.summary()"
   ]
  },
  {
   "cell_type": "markdown",
   "metadata": {},
   "source": [
    "### Finding the mode of the posterior\n",
    "\n",
    "The best fit point and goodness of fit can be obtained with the `find_mode` task:"
   ]
  },
  {
   "cell_type": "code",
   "execution_count": null,
   "metadata": {},
   "outputs": [],
   "source": [
    "bfp, gof = eos.tasks.find_mode(analysis_file=af, posterior='CKM-all', base_directory=BASE_DIRECTORY, optimizations=100, importance_samples=True)\n",
    "display(gof)\n",
    "bfp.point"
   ]
  },
  {
   "cell_type": "markdown",
   "metadata": {},
   "source": [
    "By setting `importance_samples = True`, the generated samples are inspected in order to define the starting point as the one with the largest posterior density."
   ]
  },
  {
   "attachments": {},
   "cell_type": "markdown",
   "metadata": {},
   "source": [
    "### Obtaining a corner plot of prior parameters\n",
    "\n",
    "Finally, we can visualize our results using the `corner_plot` task:"
   ]
  },
  {
   "cell_type": "code",
   "execution_count": null,
   "metadata": {},
   "outputs": [],
   "source": [
    "eos.tasks.corner_plot(analysis_file=af, posterior='CKM-all', base_directory=BASE_DIRECTORY, format=['pdf', 'png'])"
   ]
  },
  {
   "cell_type": "markdown",
   "metadata": {},
   "source": [
    "### Repeating process for different posterior\n",
    "\n",
    "To repeat this process for the `WET-all` posterior, we simply specify this in the task:"
   ]
  },
  {
   "cell_type": "code",
   "execution_count": null,
   "metadata": {},
   "outputs": [],
   "source": [
    "af = eos.AnalysisFile('./b-to-u-l-nu.yaml')\n",
    "\n",
    "eos.tasks.sample_nested(af, 'WET-all', base_directory=BASE_DIRECTORY, bound='multi', nlive=100, dlogz=9.0, maxiter=4000)"
   ]
  },
  {
   "cell_type": "markdown",
   "metadata": {},
   "source": [
    "We can access our results using the `eos.data` module, as above:"
   ]
  },
  {
   "cell_type": "code",
   "execution_count": null,
   "metadata": {},
   "outputs": [],
   "source": [
    "path = os.path.join(BASE_DIRECTORY, 'WET-all', 'nested')\n",
    "ns_results = eos.data.DynestyResults(path)\n",
    "\n",
    "# Obtain dynesty results object\n",
    "dyn_results = ns_results.results\n",
    "# this can be used, for example, for a quick summary\n",
    "dyn_results.summary()"
   ]
  },
  {
   "cell_type": "markdown",
   "metadata": {},
   "source": [
    "We can plot only part of the posterior by passing the `start` and `end` arguments to `eos.tasks.corner_plot`. Here we plot a marginal posterior for the Wilson coefficients."
   ]
  },
  {
   "cell_type": "code",
   "execution_count": null,
   "metadata": {},
   "outputs": [],
   "source": [
    "eos.tasks.corner_plot(analysis_file=af, posterior='WET-all', base_directory=BASE_DIRECTORY, format=['pdf', 'png'], end=2)"
   ]
  },
  {
   "attachments": {},
   "cell_type": "markdown",
   "metadata": {},
   "source": [
    "### Generating predictions\n",
    "\n",
    "We can also generate posterior-predictive samples. Here we produce samples for the branching ratio of the leptonic decay $\\bar{B} \\to \\ell^- \\bar{\\nu}$:"
   ]
  },
  {
   "cell_type": "code",
   "execution_count": null,
   "metadata": {},
   "outputs": [],
   "source": [
    "eos.tasks.predict_observables(\n",
    "    analysis_file=af, posterior='CKM-all',\n",
    "    prediction='leptonic-BR-CKM',\n",
    "    base_directory=BASE_DIRECTORY\n",
    "    )"
   ]
  },
  {
   "cell_type": "markdown",
   "metadata": {},
   "source": [
    "These samples can be analyzed as described in the [inference](inference.rst) notebook, e.g. with:"
   ]
  },
  {
   "cell_type": "code",
   "execution_count": null,
   "metadata": {},
   "outputs": [],
   "source": [
    "predictions = eos.data.Prediction('./CKM-all/pred-leptonic-BR-CKM')\n",
    "lo, mi, up = eos.Plotter._weighted_quantiles(\n",
    "        predictions.samples[:, 0], # Here 0 gives access to the prediction with the option l = e\n",
    "        [0.15865, 0.5, 0.84135],\n",
    "        predictions.weights\n",
    "        )\n",
    "\n",
    "md(f\"\"\"$\\\\mathcal{{B}}(\\\\bar{{B}} \\\\to e^- \\\\bar{{\\\\nu}}_e) = \\\n",
    "        {10**12*mi:.2f} ^ {{+{10**12*(up-mi):.2f}}} _ {{{10**12*(lo-mi):.2f}}} \\\\times 10^{{-12}}$\n",
    "        (from a naive sampling)\"\"\")"
   ]
  },
  {
   "cell_type": "markdown",
   "metadata": {},
   "source": [
    "Similarly, for the `WET-all` posterior:"
   ]
  },
  {
   "cell_type": "code",
   "execution_count": null,
   "metadata": {},
   "outputs": [],
   "source": [
    "eos.tasks.predict_observables(\n",
    "    analysis_file=af, posterior='WET-all',\n",
    "    prediction='leptonic-BR-WET',\n",
    "    base_directory=BASE_DIRECTORY\n",
    "    )"
   ]
  },
  {
   "cell_type": "code",
   "execution_count": null,
   "metadata": {},
   "outputs": [],
   "source": [
    "predictions = eos.data.Prediction('./WET-all/pred-leptonic-BR-WET')\n",
    "lo, mi, up = eos.Plotter._weighted_quantiles(\n",
    "        predictions.samples[:, 0], # Here 0 gives access to the prediction with the option l = e\n",
    "        [0.15865, 0.5, 0.84135],\n",
    "        predictions.weights\n",
    "        )\n",
    "\n",
    "md(f\"\"\"$\\\\mathcal{{B}}(\\\\bar{{B}} \\\\to e^- \\\\bar{{\\\\nu}}_e) = \\\n",
    "        {10**12*mi:.2f} ^ {{+{10**12*(up-mi):.2f}}} _ {{{10**12*(lo-mi):.2f}}} \\\\times 10^{{-12}}$\n",
    "        (from a naive sampling)\"\"\")"
   ]
  },
  {
   "cell_type": "markdown",
   "metadata": {},
   "source": [
    "Lastly, we can also make a prediction for our custom `R_pi` observable. Since this observable is constructed as the ratio of two branching ratios, which have the same functional form and parameter dependence, the uncertainties cancel almost exactly."
   ]
  },
  {
   "cell_type": "code",
   "execution_count": null,
   "metadata": {},
   "outputs": [],
   "source": [
    "eos.tasks.predict_observables(\n",
    "    analysis_file=af, posterior='CKM-all',\n",
    "    prediction='R_pi',\n",
    "    base_directory=BASE_DIRECTORY\n",
    "    )"
   ]
  },
  {
   "cell_type": "code",
   "execution_count": null,
   "metadata": {},
   "outputs": [],
   "source": [
    "predictions = eos.data.Prediction('./CKM-all/pred-R_pi')\n",
    "lo, mi, up = eos.Plotter._weighted_quantiles(\n",
    "        predictions.samples[:, 0], # Here 0 gives access to the prediction with the option l = e\n",
    "        [0.15865, 0.5, 0.84135],\n",
    "        predictions.weights\n",
    "        )\n",
    "\n",
    "md(f\"\"\"$\\\\mathcal{{R}}_\\pi = \\\n",
    "        {mi:.2g} ^ {{+{(up-mi):.2g}}} _ {{{(lo-mi):.2g}}}$\n",
    "        (from a naive sampling)\"\"\")"
   ]
  },
  {
   "cell_type": "markdown",
   "metadata": {},
   "source": [
    "### Running frequent tasks reproducibly with `steps`\n",
    "\n",
    "All these tasks can be fully described (and hence made automatic) through the `steps` key in the analysis file, and this is the subject of the [next section](reproducible-analyses.rst)."
   ]
  },
  {
   "cell_type": "markdown",
   "metadata": {},
   "source": [
    "In order to record the information needed to run a nested sampling task reproducibly for a certain posterior, the `steps` key can be called:\n",
    "```yaml\n",
    "steps:\n",
    "  - title: 'Sample from CKM-all posterior'\n",
    "    id: 'CKM-all.sample'\n",
    "    tasks:\n",
    "      - task: 'sample-nested'\n",
    "        arguments:\n",
    "          posterior: 'CKM-all'\n",
    "          bound: 'multi'\n",
    "          nlive: 100\n",
    "          dlogz: 9.0\n",
    "          maxiter: 4000\n",
    "```\n",
    "\n",
    "This can be run by specifying the step `id`:"
   ]
  },
  {
   "cell_type": "code",
   "execution_count": null,
   "metadata": {},
   "outputs": [],
   "source": [
    "eos.tasks.run(analysis_file=af, id='CKM-all.sample',base_directory=BASE_DIRECTORY)"
   ]
  },
  {
   "cell_type": "markdown",
   "metadata": {},
   "source": [
    "Additionally, `steps` tasks may be run with dependencies on previous tasks:\n",
    "```yaml\n",
    "steps:\n",
    "  ...\n",
    "```\n",
    "```yaml\n",
    "  - title: 'Find mode of CKM-all posterior'\n",
    "    id: 'CKM-all.find-mode'\n",
    "    depends_on: ['CKM-all.sample']\n",
    "    tasks:\n",
    "      - task: 'find-mode'\n",
    "        arguments:\n",
    "          posterior: 'CKM-all'\n",
    "          optimizations: 100\n",
    "          importance_samples: True\n",
    "```"
   ]
  },
  {
   "cell_type": "markdown",
   "metadata": {},
   "source": []
  }
 ],
 "metadata": {
  "kernelspec": {
   "display_name": "Python 3",
   "language": "python",
   "name": "python3"
  },
  "language_info": {
   "codemirror_mode": {
    "name": "ipython",
    "version": 3
   },
   "file_extension": ".py",
   "mimetype": "text/x-python",
   "name": "python",
   "nbconvert_exporter": "python",
   "pygments_lexer": "ipython3",
   "version": "3.10.12"
  },
  "orig_nbformat": 4,
  "vscode": {
   "interpreter": {
    "hash": "916dbcbb3f70747c44a77c7bcd40155683ae19c65e1c03b4aa3499c5328201f1"
   }
  }
 },
 "nbformat": 4,
 "nbformat_minor": 2
}
