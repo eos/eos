{
 "cells": [
  {
   "cell_type": "code",
   "execution_count": 1,
   "id": "aa8aa248",
   "metadata": {},
   "outputs": [],
   "source": [
    "import eos"
   ]
  },
  {
   "cell_type": "code",
   "execution_count": 2,
   "id": "c3043be1",
   "metadata": {},
   "outputs": [],
   "source": [
    "class TestObservable:\n",
    "    kinematic_variables = ['q2']\n",
    "\n",
    "    def __init__(self, parameters:eos.Parameters, kinematics:eos.Kinematics, options:eos.Options):\n",
    "        self.parameters = parameters\n",
    "        self.kinematics = kinematics\n",
    "        self.options = options\n",
    "\n",
    "        self.q2 = kinematics['q2']\n",
    "        self.mB = parameters['mass::B_d']\n",
    "\n",
    "    def evaluate(self):\n",
    "        q2 = self.q2.evaluate()\n",
    "        mB = self.mB.evaluate()\n",
    "\n",
    "        return 1.0 / (1.0 - q2 / mB**2)\n"
   ]
  },
  {
   "cell_type": "code",
   "execution_count": 3,
   "id": "b3bd9850",
   "metadata": {},
   "outputs": [],
   "source": [
    "oe = eos.register_python_observable(\"test::observable(q2)\", TestObservable, \"\\\\mathcal{O}\", eos.Unit.Unity())"
   ]
  },
  {
   "cell_type": "code",
   "execution_count": 4,
   "id": "7cf6a373",
   "metadata": {},
   "outputs": [
    {
     "data": {
      "text/html": [
       "<table>\n",
       "<tr><th>QualifedName</th><td><tt style=\"color:grey\">test::observable(q2)</tt></td></tr><tr><th>Description</th><td>$$\\mathcal{O}$$</td></tr><tr><th rowspan=1>Kinematic Variables</th><td>q2</td></tr></table>"
      ],
      "text/plain": [
       "<_eos.ObservableEntry at 0x7f7b2a7863b0>"
      ]
     },
     "execution_count": 4,
     "metadata": {},
     "output_type": "execute_result"
    }
   ],
   "source": [
    "oe"
   ]
  },
  {
   "cell_type": "code",
   "execution_count": 5,
   "id": "62e9deee",
   "metadata": {},
   "outputs": [
    {
     "data": {
      "text/html": [
       "<table>\n",
       "<tr><th>QualifedName</th><td><tt style=\"color:grey\">test::observable(q2)</tt></td></tr><tr><th>Description</th><td>$$\\mathcal{O}$$</td></tr><tr><th rowspan=1>Kinematic Variables</th><td>q2</td></tr></table>"
      ],
      "text/plain": [
       "<_eos.ObservableEntry at 0x7f7b2a785d20>"
      ]
     },
     "execution_count": 5,
     "metadata": {},
     "output_type": "execute_result"
    }
   ],
   "source": [
    "eos.Observables()['test::observable(q2)']"
   ]
  },
  {
   "cell_type": "code",
   "execution_count": 6,
   "id": "d94cce31",
   "metadata": {},
   "outputs": [],
   "source": [
    "p = eos.Parameters()\n",
    "k = eos.Kinematics(q2=0.0)\n",
    "o = eos.Options()\n",
    "\n",
    "obs = eos.Observable.make(\"test::observable(q2)\", p, k, o)"
   ]
  },
  {
   "cell_type": "code",
   "execution_count": 7,
   "id": "a4c28609",
   "metadata": {},
   "outputs": [
    {
     "data": {
      "text/plain": [
       "1.0"
      ]
     },
     "execution_count": 7,
     "metadata": {},
     "output_type": "execute_result"
    }
   ],
   "source": [
    "obs.evaluate()"
   ]
  },
  {
   "cell_type": "code",
   "execution_count": 8,
   "id": "41fecb8c",
   "metadata": {},
   "outputs": [
    {
     "name": "stderr",
     "output_type": "stream",
     "text": [
      "Handling item to plot test::observable(q2)\n",
      "Handling item to plot test::observable(q2)\n"
     ]
    },
    {
     "data": {
      "image/png": "[encoded data removed]",
      "text/plain": [
       "<Figure size 640x480 with 1 Axes>"
      ]
     },
     "metadata": {},
     "output_type": "display_data"
    }
   ],
   "source": [
    "figure_args = \"\"\"\n",
    "plot:\n",
    "  xaxis: { label: '$q^2$',                range: [0.0, 25.0]   }\n",
    "  yaxis: { label: '$\\\\mathcal{O}(q^2)$',  range: [1.0, 10.0] }\n",
    "  items:\n",
    "  - { type: 'observable', observable: 'test::observable(q2)',\n",
    "      variable: 'q2', range: [0.0, 25.0], resolution: 2500\n",
    "    }\n",
    "  - { type: 'observable', observable: 'test::observable(q2)',\n",
    "      variable: 'q2', range: [0.0, 25.0], resolution: 2500,\n",
    "      fixed_parameters: {\n",
    "        mass::B_d: 7.0\n",
    "      }\n",
    "    }\n",
    "\"\"\"\n",
    "figure = eos.figure.FigureFactory.from_yaml(figure_args)\n",
    "figure.draw()"
   ]
  },
  {
   "cell_type": "code",
   "execution_count": 9,
   "id": "ae518d33",
   "metadata": {},
   "outputs": [],
   "source": [
    "import numpy as np\n",
    "class ComplexObservable:\n",
    "    kinematic_variables = ['Re{q2}', 'Im{q2}']\n",
    "\n",
    "    def __init__(self, parameters:eos.Parameters, kinematics:eos.Kinematics, options:eos.Options):\n",
    "        self.parameters = parameters\n",
    "        self.kinematics = kinematics\n",
    "        self.options = options\n",
    "\n",
    "        self.re_q2 = kinematics['Re{q2}']\n",
    "        self.im_q2 = kinematics['Im{q2}']\n",
    "\n",
    "    def evaluate(self):\n",
    "        q2 = self.re_q2.evaluate() + 1.0j * self.im_q2.evaluate()\n",
    "\n",
    "        return np.angle(q2)\n",
    "\n",
    "\n",
    "oe = eos.register_python_observable(\"test::arg(Re{q2},Im{q2})\", ComplexObservable, \"\\\\textnormal{arg}\", eos.Unit.Unity())"
   ]
  },
  {
   "cell_type": "code",
   "execution_count": 10,
   "id": "87e1b14f",
   "metadata": {},
   "outputs": [],
   "source": [
    "import numpy as np\n",
    "class NonLocalFormFactorObservable:\n",
    "    kinematic_variables = ['Re{z}', 'Im{z}']\n",
    "\n",
    "    def __init__(self, parameters:eos.Parameters, kinematics:eos.Kinematics, options:eos.Options):\n",
    "        self.parameters = parameters\n",
    "        self.kinematics = kinematics\n",
    "        self.options = options\n",
    "\n",
    "        self.re_z = self.kinematics['Re{z}']\n",
    "        self.im_z = self.kinematics['Im{z}']\n",
    "        self.re_q2 = self.kinematics.declare('Re{q2}', np.nan)\n",
    "        self.im_q2 = self.kinematics.declare('Im{q2}', np.nan)\n",
    "\n",
    "        self.t0 = 0.0 + 0.0j\n",
    "        self.tp = 4.0 * self.parameters['mass::D_d'].evaluate()**2\n",
    "\n",
    "        self.observable = eos.Observable.make('b->s::Re{F17}(Re{q2},Im{q2})', self.parameters, self.kinematics, self.options)\n",
    "\n",
    "    def evaluate(self):\n",
    "        z = self.re_z.evaluate() + 1.0j * self.im_z.evaluate()\n",
    "        q2 = (self.t0 * (1.0 + z)**2 - 4.0 * self.tp * z) / (-1.0 + z)**2\n",
    "        self.re_q2.set(q2.real)\n",
    "        self.im_q2.set(q2.imag)\n",
    "\n",
    "        if np.abs(z) > 1.0:\n",
    "            return np.nan\n",
    "\n",
    "        result = np.nan\n",
    "        try:\n",
    "            result = self.observable.evaluate()\n",
    "        except Exception as e:\n",
    "            print(f\"last q2: {q2}, for z: {z}\")\n",
    "            result = np.nan\n",
    "\n",
    "        return result\n",
    "\n",
    "\n",
    "oe = eos.register_python_observable(\"b->s::Re{F17}(Re{z},Im{z})\", NonLocalFormFactorObservable, \"F(z)\", eos.Unit.Unity())"
   ]
  },
  {
   "cell_type": "code",
   "execution_count": 11,
   "id": "631bacc2",
   "metadata": {},
   "outputs": [
    {
     "name": "stderr",
     "output_type": "stream",
     "text": [
      "Handling item to plot b->s::Re{F17}(Re{z},Im{z}) in the complex plane\n"
     ]
    },
    {
     "name": "stdout",
     "output_type": "stream",
     "text": [
      "last q2: (-356.5812186304969+445.0681384679014j), for z: (0.7474747474747478-0.10101010101010077j)\n",
      "last q2: (204.61243176000178+730.1861186400025j), for z: (0.8282828282828287-0.18181818181818166j)\n",
      "last q2: (-1023.3716729109335+956.4818944745891j), for z: (0.8282828282828287-0.06060606060606055j)\n",
      "last q2: (204.61243176000352-730.1861186400001j), for z: (0.8282828282828287+0.1818181818181821j)\n",
      "last q2: (495.5883522159015+853.3487403375567j), for z: (0.868686868686869-0.18181818181818166j)\n",
      "last q2: (308.3023996665859+1285.3275831880326j), for z: (0.868686868686869-0.14141414141414121j)\n",
      "last q2: (-255.11549689785286+1763.7709068672707j), for z: (0.868686868686869-0.10101010101010077j)\n",
      "last q2: (-1383.6941244996133+1872.7697853397005j), for z: (0.868686868686869-0.06060606060606055j)\n",
      "last q2: (-2605.981226824545+888.3942816421576j), for z: (0.868686868686869-0.02020202020202011j)\n",
      "last q2: (-1383.6941244995985-1872.769785339704j), for z: (0.868686868686869+0.060606060606060996j)\n",
      "last q2: (495.5883522159025-853.3487403375525j), for z: (0.868686868686869+0.1818181818181821j)\n",
      "last q2: (935.1405370912016+836.7046910816017j), for z: (0.9090909090909092-0.18181818181818166j)\n",
      "last q2: (1001.4820047090309+1520.4803169923127j), for z: (0.9090909090909092-0.14141414141414121j)\n",
      "last q2: (593.2336420292519+2705.8890623613665j), for z: (0.9090909090909092-0.10101010101010077j)\n",
      "last q2: (-1376.0632319389372+4040.8206017254515j), for z: (0.9090909090909092-0.06060606060606055j)\n",
      "last q2: (-5255.758899138883+2601.0565330529744j), for z: (0.9090909090909092-0.02020202020202011j)\n",
      "last q2: (-1376.063231938902-4040.820601725443j), for z: (0.9090909090909092+0.060606060606060996j)\n",
      "last q2: (593.233642029262-2705.889062361351j), for z: (0.9090909090909092+0.10101010101010122j)\n",
      "last q2: (935.1405370912-836.7046910815961j), for z: (0.9090909090909092+0.1818181818181821j)\n",
      "last q2: (2852.6708173582374+3065.2922447389556j), for z: (0.9494949494949498-0.10101010101010077j)\n",
      "last q2: (2074.3350645600617+8294.364167760046j), for z: (0.9494949494949498-0.06060606060606055j)\n",
      "last q2: (-12733.162423031494+12654.156244605272j), for z: (0.9494949494949498-0.02020202020202011j)\n",
      "last q2: (-12733.162423031357-12654.156244605336j), for z: (0.9494949494949498+0.020202020202020332j)\n",
      "last q2: (2074.335064560107-8294.36416775996j), for z: (0.9494949494949498+0.060606060606060996j)\n",
      "last q2: (2852.670817358229-3065.292244738923j), for z: (0.9494949494949498+0.10101010101010122j)\n",
      "last q2: (1424.9744594231727-524.5120689346118j), for z: (0.9494949494949498+0.1818181818181821j)\n",
      "last q2: (5374.721672313731+526.5077784431621j), for z: (0.9898989898989901-0.10101010101010077j)\n",
      "last q2: (66887.15736352486+85491.53225933819j), for z: (0.9898989898989901-0.02020202020202011j)\n",
      "last q2: (66887.15736352444-85491.53225933606j), for z: (0.9898989898989901+0.020202020202020332j)\n"
     ]
    },
    {
     "data": {
      "image/png": "[encoded data removed]",
      "text/plain": [
       "<Figure size 640x480 with 1 Axes>"
      ]
     },
     "metadata": {},
     "output_type": "display_data"
    }
   ],
   "source": [
    "figure_args = \"\"\"\n",
    "plot:\n",
    "  aspect: 1.0\n",
    "  xaxis: { label: 'Re\\\\,$z$',  range: [-1.0, +1.0] }\n",
    "  yaxis: { label: 'Im\\\\,$z$',  range: [-1.0, +1.0] }\n",
    "  items:\n",
    "  - { type: 'complex-plane', observable: 'b->s::Re{F17}(Re{z},Im{z})',\n",
    "      variables: ['Re{z}', 'Im{z}'], resolution: 100\n",
    "    }\n",
    "\"\"\"\n",
    "figure = eos.figure.FigureFactory.from_yaml(figure_args)\n",
    "figure.draw()"
   ]
  }
 ],
 "metadata": {
  "kernelspec": {
   "display_name": "master",
   "language": "python",
   "name": "python3"
  },
  "language_info": {
   "codemirror_mode": {
    "name": "ipython",
    "version": 3
   },
   "file_extension": ".py",
   "mimetype": "text/x-python",
   "name": "python",
   "nbconvert_exporter": "python",
   "pygments_lexer": "ipython3",
   "version": "3.12.9"
  }
 },
 "nbformat": 4,
 "nbformat_minor": 5
}
