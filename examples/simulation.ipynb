{
 "cells": [
  {
   "cell_type": "markdown",
   "metadata": {},
   "source": [
    "# Simulation of Pseudo Events"
   ]
  },
  {
   "cell_type": "markdown",
   "metadata": {},
   "source": [
    "EOS can simulate pseudo events from any of its built-in PDFs using Markov chain Monte Carlo techniques.\n",
    "The examples following in this section illustrate how to find a specific PDF from the list of all built-in PDFs,\n",
    "simulate the pseudo events from this object, compare to the pseudo events with the analytic results,\n",
    "and plot 1D and 2D histograms of the pseudo events."
   ]
  },
  {
   "cell_type": "code",
   "execution_count": null,
   "metadata": {},
   "outputs": [],
   "source": [
    "import eos\n",
    "import numpy as np"
   ]
  },
  {
   "cell_type": "markdown",
   "metadata": {},
   "source": [
    "## Listing the built-in Probability Density Functions"
   ]
  },
  {
   "cell_type": "markdown",
   "metadata": {},
   "source": [
    "The full list of built-in probability density functions (PDFs) for the most-recent EOS release is available online [here](https://eos.github.io/doc/reference/signal-pdfs.html). You can also show this list using the [eos.SignalPDFs](../reference/python.rst#eos.SignalPDFs) class."
   ]
  },
  {
   "cell_type": "code",
   "execution_count": null,
   "metadata": {
    "scrolled": true
   },
   "outputs": [],
   "source": [
    "eos.SignalPDFs(prefix='B->Dlnu')"
   ]
  },
  {
   "cell_type": "markdown",
   "metadata": {},
   "source": [
    "## Setting the Stage"
   ]
  },
  {
   "cell_type": "markdown",
   "metadata": {},
   "source": [
    "For latter use, we create a dedicated directory to store the pseudo events that we will produce in short order. Similar to the previous chapters, we will store the name of that directory in the global variable ``EOS_BASE_DIRECTORY``:"
   ]
  },
  {
   "cell_type": "code",
   "execution_count": null,
   "metadata": {},
   "outputs": [],
   "source": [
    "EOS_BASE_DIRECTORY='./simulation-data'\n",
    "import os\n",
    "if not os.path.exists(EOS_BASE_DIRECTORY):\n",
    "    os.makedirs(EOS_BASE_DIRECTORY)"
   ]
  },
  {
   "cell_type": "markdown",
   "metadata": {},
   "source": [
    "## Constructing a 1D PDF and Simulating Pseudo Events"
   ]
  },
  {
   "cell_type": "markdown",
   "metadata": {},
   "source": [
    "We construct the one-dimension PDF describing the decay distribution in the variable $q^2$ and for $\\ell=\\mu$ leptons. We create the ``q2`` kinematic variable and set it to an arbitrary starting value.\n",
    "We set boundaries for the phase space from which we want to sample through the kinematic variables ``q2_min`` and ``q2_max``. If needed, we can shrink the phase space to a volume smaller than physically allowed. The normalization of the PDF will automatically adapt.\n",
    "\n",
    "We simulate ``stride * N=250000`` pseudo events/samples from the PDF, which are thinned down to ``N=50000``.\n",
    "The Markov chains can self adapt to the PDF in ``preruns=3`` preruns with ``pre_N=1000`` pseudo events/samples each."
   ]
  },
  {
   "cell_type": "code",
   "execution_count": null,
   "metadata": {},
   "outputs": [],
   "source": [
    "mu_kinematics = eos.Kinematics({\n",
    "    'q2':            2.0,  'q2_min':            0.02,     'q2_max':           11.6,\n",
    "})\n",
    "mu_pdf = eos.SignalPDF.make('B->Dlnu::dGamma/dq2', eos.Parameters(), mu_kinematics, eos.Options())\n",
    "rng = np.random.mtrand.RandomState(74205)\n",
    "mu_samples, mu_density = mu_pdf.sample_mcmc(N=50000, stride=5, pre_N=1000, preruns=3, rng=rng)\n",
    "mu_weights = np.ones((len(mu_samples),), dtype=np.float64) / len(mu_samples)\n",
    "eos.data.ImportanceSamples.create(os.path.join(EOS_BASE_DIRECTORY, 'B-to-Dmunu-1D', 'samples'), [mu_kinematics['q2']], mu_samples, mu_weights, mu_density)"
   ]
  },
  {
   "cell_type": "markdown",
   "metadata": {},
   "source": [
    "We repeat the exercise for $\\ell=\\tau$ leptons, and adapt the phase space accordingly."
   ]
  },
  {
   "cell_type": "code",
   "execution_count": null,
   "metadata": {},
   "outputs": [],
   "source": [
    "tau_kinematics = eos.Kinematics({\n",
    "    'q2':            4.0,  'q2_min':            3.17,     'q2_max':           11.6,\n",
    "})\n",
    "tau_pdf = eos.SignalPDF.make('B->Dlnu::dGamma/dq2', eos.Parameters(), tau_kinematics, eos.Options(l='tau'))\n",
    "rng = np.random.mtrand.RandomState(74205)\n",
    "tau_samples, tau_density = tau_pdf.sample_mcmc(N=50000, stride=5, pre_N=1000, preruns=3, rng=rng)\n",
    "tau_weights = np.ones((len(tau_samples),), dtype=np.float64) / len(tau_samples)\n",
    "eos.data.ImportanceSamples.create(os.path.join(EOS_BASE_DIRECTORY, 'B-to-Dtaunu-1D', 'samples'), [tau_kinematics['q2']], tau_samples, tau_weights, tau_density)"
   ]
  },
  {
   "cell_type": "markdown",
   "metadata": {},
   "source": [
    "## Comparing the 1D PDF samples with the analytic result ##"
   ]
  },
  {
   "cell_type": "markdown",
   "metadata": {},
   "source": [
    "We can now histogram the samples and compare the histogram with the analytical result.\n",
    "Similar to observables, [SignalPDF](../reference/python.rst#eos.SignalPDF) objects can be plotted as a function of a single kinematic variable,\n",
    "while keeping all other kinematic variables fixed. The latter is achieved via the ``kinematics`` key."
   ]
  },
  {
   "cell_type": "code",
   "execution_count": null,
   "metadata": {},
   "outputs": [],
   "source": [
    "figure_args = \"\"\"\n",
    "plot:\n",
    "  xaxis: { label: '$q^2$', unit: '$\\\\textnormal{GeV}^2$', range: [0.0, 11.63]                            }\n",
    "  yaxis: { label: '$P(q^2)$',                             range: [0.0,  0.30], ticks: { visible: false } }\n",
    "  legend: { position: 'upper left' }\n",
    "  items:\n",
    "    - { type: 'histogram1D', label: '$\\\\ell=\\\\mu$', color: 'C0',\n",
    "        variable: 'q2',\n",
    "        datafile: './simulation-data/B-to-Dmunu-1D/samples'\n",
    "      }\n",
    "    - { type: 'histogram1D', label: '$\\\\ell=\\\\tau$', color: 'C1',\n",
    "        variable: 'q2',\n",
    "        datafile: './simulation-data/B-to-Dtaunu-1D/samples'\n",
    "      }\n",
    "    - { type: 'signal-pdf', label: '$\\\\ell=\\\\mu$', pdf: 'B->Dlnu::dGamma/dq2;l=mu',\n",
    "        variable: 'q2', range: [0.02, 11.60],\n",
    "        kinematics: { q2_min: 0.02, q2_max: 11.60 },\n",
    "        color: 'C0'\n",
    "      }\n",
    "    - { type: 'signal-pdf', label: '$\\\\ell=\\\\tau$', pdf: 'B->Dlnu::dGamma/dq2;l=tau',\n",
    "        variable: 'q2', range: [3.17, 11.60],\n",
    "        kinematics: { q2_min: 3.17, q2_max: 11.60 },\n",
    "        color: 'C1'\n",
    "      }\n",
    "\"\"\"\n",
    "figure = eos.figure.FigureFactory.from_yaml(figure_args)\n",
    "figure.draw()"
   ]
  },
  {
   "cell_type": "markdown",
   "metadata": {},
   "source": [
    "As you can see, we have excellent agreement between our simulations and the respective analytic expressions for the PDFs."
   ]
  },
  {
   "cell_type": "markdown",
   "metadata": {},
   "source": [
    "## Constructing a 4D PDF and Simulating Pseudo Events"
   ]
  },
  {
   "cell_type": "markdown",
   "metadata": {},
   "source": [
    "We can also draw samples for PDFs with more than two kinematic variables. Here, we\n",
    "use the full four-dimensional PDF for $\\bar{B}\\to D^*\\ell^-\\bar\\nu$ decays.\n",
    "\n",
    "We declare and initialize all four kinematic variables (``q2``, ``cos(theta_l)``, ``cos(theta_d)``, and ``phi``),\n",
    "and provide the phase space boundaries (same names appended with ``_min`` and ``_max``).\n",
    "\n",
    "We then produce the samples as for the 1D PDF."
   ]
  },
  {
   "cell_type": "code",
   "execution_count": null,
   "metadata": {
    "scrolled": false
   },
   "outputs": [],
   "source": [
    "dstarlnu_kinematics = eos.Kinematics({\n",
    "    'q2':            2.0,  'q2_min':            0.02,     'q2_max':           10.5,\n",
    "    'cos(theta_l)':  0.0,  'cos(theta_l)_min': -1.0,      'cos(theta_l)_max': +1.0,\n",
    "    'cos(theta_d)':  0.0,  'cos(theta_d)_min': -1.0,      'cos(theta_d)_max': +1.0,\n",
    "    'phi':           0.3,  'phi_min':           0.0,      'phi_max':           2.0 * np.pi\n",
    "})\n",
    "dstarlnu_pdf = eos.SignalPDF.make('B->D^*lnu::d^4Gamma', eos.Parameters(), dstarlnu_kinematics, eos.Options())\n",
    "rng = np.random.mtrand.RandomState(74205)\n",
    "dstarlnu_samples, dstarlnu_density = dstarlnu_pdf.sample_mcmc(N=100000, stride=5, pre_N=1000, preruns=3, rng=rng)\n",
    "dstarlnu_weights = np.ones((len(dstarlnu_samples),), dtype=np.float64) / len(dstarlnu_samples)\n",
    "dstarlnu_parameters = [\n",
    "    dstarlnu_kinematics['q2'],\n",
    "    dstarlnu_kinematics['cos(theta_l)'],\n",
    "    dstarlnu_kinematics['cos(theta_d)'],\n",
    "    dstarlnu_kinematics['phi']\n",
    "]\n",
    "eos.data.ImportanceSamples.create(os.path.join(EOS_BASE_DIRECTORY, 'B-to-Dlnu-4D', 'samples'), dstarlnu_parameters, dstarlnu_samples, dstarlnu_weights, dstarlnu_density)"
   ]
  },
  {
   "cell_type": "markdown",
   "metadata": {},
   "source": [
    "We can now show correlations of the kinematic variables by plotting 2D histograms, beginning with $q^2$ vs $\\cos\\theta_\\ell$, ..."
   ]
  },
  {
   "cell_type": "code",
   "execution_count": null,
   "metadata": {},
   "outputs": [],
   "source": [
    "figure_args = \"\"\"\n",
    "plot:\n",
    "  xaxis: { label: '$q^2$', unit: '$\\\\textnormal{GeV}^2$', range: [0.0, 11.63] }\n",
    "  yaxis: { label: '$cos(\\\\theta_\\\\ell)$',                 range: [-1.0, +1.0] }\n",
    "  items:\n",
    "    - { type: 'histogram2D',\n",
    "        variables: ['q2', 'cos(theta_l)'], bins: 40,\n",
    "        datafile: './simulation-data/B-to-Dlnu-4D/samples'\n",
    "      }\n",
    "    - { type: 'kde2D', color: 'white', alpha: 1.0,\n",
    "        variables: ['q2', 'cos(theta_l)'],\n",
    "        levels: [0, 50, 75, 90],\n",
    "        datafile: './simulation-data/B-to-Dlnu-4D/samples'\n",
    "      }\n",
    "\"\"\"\n",
    "figure = eos.figure.FigureFactory.from_yaml(figure_args)\n",
    "figure.draw()"
   ]
  },
  {
   "cell_type": "markdown",
   "metadata": {},
   "source": [
    "... over $\\cos\\theta_\\ell$ vs $\\cos\\theta_D$ ..."
   ]
  },
  {
   "cell_type": "code",
   "execution_count": null,
   "metadata": {},
   "outputs": [],
   "source": [
    "figure_args = \"\"\"\n",
    "plot:\n",
    "  xaxis: { label: '$cos(\\\\theta_\\\\ell)$', range: [-1.0, +1.0] }\n",
    "  yaxis: { label: '$cos(\\\\theta_D)$',     range: [-1.0, +1.0] }\n",
    "  items:\n",
    "    - { type: 'histogram2D',\n",
    "        variables: ['cos(theta_l)', 'cos(theta_d)'], bins: 40,\n",
    "        datafile: './simulation-data/B-to-Dlnu-4D/samples'\n",
    "      }\n",
    "    - { type: 'kde2D', color: 'white', alpha: 1.0,\n",
    "        variables: ['cos(theta_l)', 'cos(theta_d)'],\n",
    "        levels: [0, 50, 75, 90],\n",
    "        datafile: './simulation-data/B-to-Dlnu-4D/samples'\n",
    "      }\n",
    "\"\"\"\n",
    "figure = eos.figure.FigureFactory.from_yaml(figure_args)\n",
    "figure.draw()"
   ]
  },
  {
   "cell_type": "markdown",
   "metadata": {},
   "source": [
    "... to $q^2$ vs $\\phi$."
   ]
  },
  {
   "cell_type": "code",
   "execution_count": null,
   "metadata": {},
   "outputs": [],
   "source": [
    "figure_args = \"\"\"\n",
    "plot:\n",
    "  xaxis: { label: '$q^2$', unit: '$\\\\textnormal{GeV}^2$', range: [0.0, 11.63] }\n",
    "  yaxis: { label: '$\\\\phi$',                              range: [0.0, 6.28]  }\n",
    "  items:\n",
    "    - { type: 'histogram2D',\n",
    "        variables: ['q2', 'phi'], bins: 40,\n",
    "        datafile: './simulation-data/B-to-Dlnu-4D/samples'\n",
    "      }\n",
    "    - { type: 'kde2D', color: 'white', alpha: 1.0,\n",
    "        variables: ['q2', 'phi'],\n",
    "        levels: [0, 50, 75, 90],\n",
    "        datafile: './simulation-data/B-to-Dlnu-4D/samples'\n",
    "      }\n",
    "\"\"\"\n",
    "figure = eos.figure.FigureFactory.from_yaml(figure_args)\n",
    "figure.draw()"
   ]
  }
 ],
 "metadata": {
  "kernelspec": {
   "display_name": "Python 3",
   "language": "python",
   "name": "python3"
  },
  "language_info": {
   "codemirror_mode": {
    "name": "ipython",
    "version": 3
   },
   "file_extension": ".py",
   "mimetype": "text/x-python",
   "name": "python",
   "nbconvert_exporter": "python",
   "pygments_lexer": "ipython3",
   "version": "3.12.9"
  }
 },
 "nbformat": 4,
 "nbformat_minor": 2
}
